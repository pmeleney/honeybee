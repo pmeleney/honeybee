{
 "cells": [
  {
   "cell_type": "code",
   "execution_count": 1,
   "metadata": {},
   "outputs": [],
   "source": [
    "import tensorflow as tf\n",
    "from tensorflow import keras\n",
    "from tensorflow.keras import layers\n",
    "import numpy as np\n",
    "from sklearn.model_selection import train_test_split\n",
    "import matplotlib.pyplot as plt\n",
    "import pandas as pd\n",
    "import os"
   ]
  },
  {
   "cell_type": "markdown",
   "metadata": {},
   "source": [
    "## General Functions"
   ]
  },
  {
   "cell_type": "code",
   "execution_count": 2,
   "metadata": {},
   "outputs": [],
   "source": [
    "def move_towards(x1, y1, x2, y2):\n",
    "    x_dist = x1 - x2\n",
    "    y_dist = y1 - y2\n",
    "    if np.abs(x_dist) >= np.abs(y_dist):\n",
    "        if x_dist > 0:\n",
    "            move_vector = [0,0,0,1]\n",
    "        else:\n",
    "            move_vector = [0,0,1,0]\n",
    "    else:\n",
    "        if y_dist > 0:\n",
    "            move_vector = [1,0,0,0]\n",
    "        else:\n",
    "            move_vector = [0,1,0,0]\n",
    "    return move_vector"
   ]
  },
  {
   "cell_type": "markdown",
   "metadata": {},
   "source": [
    "### Move towards queen or flower based on has_food"
   ]
  },
  {
   "cell_type": "code",
   "execution_count": 3,
   "metadata": {},
   "outputs": [],
   "source": [
    "def create_outputs_0(x1, y1, x2, y2, x3, y3, has_food):\n",
    "    x_dist12 = x1 - x2\n",
    "    y_dist12 = y1 - y2\n",
    "    x_dist13 = x1 - x3\n",
    "    y_dist13 = y1 - y3\n",
    "    \n",
    "    if np.abs(x_dist12) >= np.abs(y_dist12):\n",
    "        if x_dist12 > 0:\n",
    "            move_vector12 = [0,0,0,1]\n",
    "        else:\n",
    "            move_vector12 = [0,0,1,0]\n",
    "    elif np.abs(x_dist12) < np.abs(y_dist12):\n",
    "        if y_dist12 > 0:\n",
    "            move_vector12 = [1,0,0,0]\n",
    "        else:\n",
    "            move_vector12 = [0,1,0,0]\n",
    "            \n",
    "    if np.abs(x_dist13) >= np.abs(y_dist13):\n",
    "        if x_dist13 > 0:\n",
    "            move_vector13 = [0,0,0,1]\n",
    "        else:\n",
    "            move_vector13 = [0,0,1,0]\n",
    "    elif np.abs(x_dist13) < np.abs(y_dist13):\n",
    "        if y_dist13 > 0:\n",
    "            move_vector13 = [1,0,0,0]\n",
    "        else:\n",
    "            move_vector13 = [0,1,0,0]\n",
    "\n",
    "    if has_food:\n",
    "        move_vector = move_vector13\n",
    "    else:\n",
    "        move_vector = move_vector12\n",
    "\n",
    "    return move_vector"
   ]
  },
  {
   "cell_type": "code",
   "execution_count": 5,
   "metadata": {},
   "outputs": [],
   "source": [
    "def create_positions_0(board_size = 20, sample_size=10000):\n",
    "    positions = np.random.choice(range(board_size), (sample_size,7))/board_size\n",
    "    positions[:,-1] = np.random.choice([0,1],sample_size)\n",
    "    \n",
    "    return positions"
   ]
  },
  {
   "cell_type": "markdown",
   "metadata": {},
   "source": [
    "### Move towards hornet"
   ]
  },
  {
   "cell_type": "code",
   "execution_count": 6,
   "metadata": {},
   "outputs": [],
   "source": [
    "def create_outputs_1(x1, y1, x2, y2):\n",
    "    x_dist12 = x1 - x2\n",
    "    y_dist12 = y1 - y2\n",
    "    \n",
    "    if np.abs(x_dist12) >= np.abs(y_dist12):\n",
    "        if x_dist12 > 0:\n",
    "            move_vector12 = [0,0,0,1]\n",
    "        else:\n",
    "            move_vector12 = [0,0,1,0]\n",
    "    elif np.abs(x_dist12) < np.abs(y_dist12):\n",
    "        if y_dist12 > 0:\n",
    "            move_vector12 = [1,0,0,0]\n",
    "        else:\n",
    "            move_vector12 = [0,1,0,0]\n",
    "\n",
    "    return move_vector12"
   ]
  },
  {
   "cell_type": "code",
   "execution_count": 7,
   "metadata": {},
   "outputs": [],
   "source": [
    "def create_positions_1(board_size = 20, sample_size=10000):\n",
    "    positions = np.random.choice(range(board_size), (sample_size,4))/board_size\n",
    "\n",
    "    \n",
    "    return positions"
   ]
  },
  {
   "cell_type": "code",
   "execution_count": 10,
   "metadata": {},
   "outputs": [],
   "source": [
    "def get_wb(num_inputs, epochs, board_size=20, sample_size=100000):\n",
    "    if num_inputs == 4:\n",
    "        x = create_positions_1(board_size=board_size, sample_size=sample_size)\n",
    "        y = []\n",
    "        for row in x:\n",
    "            y.append(create_outputs_1(*row))\n",
    "        y = np.array(y)\n",
    "        model_type = 'hornet'\n",
    "    elif num_inputs == 7:\n",
    "        x = create_positions_0(board_size=board_size, sample_size=sample_size)\n",
    "        y = []\n",
    "        for row in x:\n",
    "            y.append(create_outputs_0(*row))\n",
    "        y = np.array(y)\n",
    "        model_type='regular'\n",
    "    else:\n",
    "        raise AttributeError(\"num_inputs, should be 4 or 7.\")\n",
    "        \n",
    "    inputs = keras.Input(shape=(num_inputs,))\n",
    "    l0 = layers.Dense(10, activation=\"relu\")(inputs)\n",
    "    l1 = layers.Dense(10, activation = \"sigmoid\")(l0)\n",
    "    l2 = layers.Dense(10, activation = \"sigmoid\")(l1)\n",
    "    outputs = layers.Dense(4, activation = \"softmax\")(l2)\n",
    "    model = keras.Model(inputs = inputs, outputs = outputs)\n",
    "\n",
    "    x_train, x_val, y_train, y_val = train_test_split(x, y, test_size=0.1, random_state=47)\n",
    "    model.compile(loss = 'mse', optimizer = keras.optimizers.legacy.Adam(learning_rate = 0.001))\n",
    "    model.fit(x_train, y_train, batch_size=100, epochs=epochs, validation_data = (x_val, y_val))\n",
    "\n",
    "    correct_moves = []\n",
    "    if num_inputs == 4:\n",
    "        input_array = create_positions_1(board_size,sample_size//5)\n",
    "        for inp in input_array:\n",
    "            correct_moves.append(np.argmax(create_outputs_1(*inp)))\n",
    "    elif num_inputs == 7:\n",
    "        input_array = create_positions_0(board_size,sample_size//5)\n",
    "        for inp in input_array:\n",
    "            correct_moves.append(np.argmax(create_outputs_0(*inp)))\n",
    "    model_output = model.predict(input_array)\n",
    "    df = pd.DataFrame(model_output)\n",
    "    model_output_moves = df.apply(lambda x: np.argmax(x), axis=1)\n",
    "    print((model_output_moves == correct_moves).mean())\n",
    "\n",
    "    for i, layer in enumerate(model.layers):\n",
    "        try:\n",
    "            np.savetxt(f'Best_weights_model_{model_type}_layer_{i}.csv', layer.weights[0].numpy(), delimiter = ',')\n",
    "            np.savetxt(f'Best_biases_model_{model_type}_layer_{i}.csv', layer.weights[1].numpy(), delimiter = ',')\n",
    "        except:\n",
    "            continue\n",
    "\n",
    "        model.save(os.path.join('..', '..', 'Current_implementation', f'{model_type}_model.keras'))\n",
    "\n",
    "    return model"
   ]
  },
  {
   "cell_type": "code",
   "execution_count": 11,
   "metadata": {},
   "outputs": [
    {
     "name": "stdout",
     "output_type": "stream",
     "text": [
      "Epoch 1/5\n",
      "900/900 [==============================] - 4s 4ms/step - loss: 0.1445 - val_loss: 0.0701\n",
      "Epoch 2/5\n",
      "900/900 [==============================] - 3s 4ms/step - loss: 0.0293 - val_loss: 0.0157\n",
      "Epoch 3/5\n",
      "900/900 [==============================] - 3s 4ms/step - loss: 0.0127 - val_loss: 0.0107\n",
      "Epoch 4/5\n",
      "900/900 [==============================] - 3s 4ms/step - loss: 0.0098 - val_loss: 0.0089\n",
      "Epoch 5/5\n",
      "900/900 [==============================] - 3s 4ms/step - loss: 0.0085 - val_loss: 0.0082\n",
      "625/625 [==============================] - 1s 1ms/step\n",
      "0.9807\n"
     ]
    }
   ],
   "source": [
    "model_hornet = get_wb(num_inputs=4, epochs=5)"
   ]
  },
  {
   "cell_type": "code",
   "execution_count": 12,
   "metadata": {},
   "outputs": [
    {
     "name": "stdout",
     "output_type": "stream",
     "text": [
      "Epoch 1/10\n",
      "900/900 [==============================] - 3s 4ms/step - loss: 0.1718 - val_loss: 0.1543\n",
      "Epoch 2/10\n",
      "900/900 [==============================] - 3s 4ms/step - loss: 0.1382 - val_loss: 0.1047\n",
      "Epoch 3/10\n",
      "900/900 [==============================] - 3s 4ms/step - loss: 0.0800 - val_loss: 0.0639\n",
      "Epoch 4/10\n",
      "900/900 [==============================] - 3s 4ms/step - loss: 0.0447 - val_loss: 0.0318\n",
      "Epoch 5/10\n",
      "900/900 [==============================] - 3s 4ms/step - loss: 0.0252 - val_loss: 0.0217\n",
      "Epoch 6/10\n",
      "900/900 [==============================] - 3s 4ms/step - loss: 0.0191 - val_loss: 0.0178\n",
      "Epoch 7/10\n",
      "900/900 [==============================] - 3s 4ms/step - loss: 0.0160 - val_loss: 0.0154\n",
      "Epoch 8/10\n",
      "900/900 [==============================] - 3s 4ms/step - loss: 0.0141 - val_loss: 0.0134\n",
      "Epoch 9/10\n",
      "900/900 [==============================] - 3s 4ms/step - loss: 0.0129 - val_loss: 0.0126\n",
      "Epoch 10/10\n",
      "900/900 [==============================] - 3s 4ms/step - loss: 0.0119 - val_loss: 0.0114\n",
      "625/625 [==============================] - 1s 1ms/step\n",
      "0.97455\n"
     ]
    }
   ],
   "source": [
    "model_regular = get_wb(num_inputs=7, epochs=10)"
   ]
  },
  {
   "cell_type": "code",
   "execution_count": 15,
   "metadata": {},
   "outputs": [],
   "source": [
    "inputs = create_positions_0()"
   ]
  },
  {
   "cell_type": "code",
   "execution_count": 16,
   "metadata": {},
   "outputs": [
    {
     "data": {
      "text/plain": [
       "array([[ 0.45,  0.1 ,  0.35, ...,  0.2 ,  0.45,  1.  ],\n",
       "       [ 0.75,  0.75,  0.65, ...,  0.15,  0.7 , -1.  ],\n",
       "       [ 0.75,  0.  ,  0.95, ...,  0.2 ,  0.3 , -1.  ],\n",
       "       ...,\n",
       "       [ 0.35,  0.05,  0.1 , ...,  0.15,  0.1 , -1.  ],\n",
       "       [ 0.9 ,  0.7 ,  0.2 , ...,  0.95,  0.95, -1.  ],\n",
       "       [ 0.65,  0.8 ,  0.  , ...,  0.5 ,  0.15,  1.  ]])"
      ]
     },
     "execution_count": 16,
     "metadata": {},
     "output_type": "execute_result"
    }
   ],
   "source": [
    "inputs"
   ]
  },
  {
   "cell_type": "code",
   "execution_count": null,
   "metadata": {},
   "outputs": [],
   "source": []
  },
  {
   "cell_type": "code",
   "execution_count": null,
   "metadata": {},
   "outputs": [],
   "source": []
  },
  {
   "cell_type": "code",
   "execution_count": null,
   "metadata": {},
   "outputs": [],
   "source": []
  },
  {
   "cell_type": "code",
   "execution_count": 81,
   "metadata": {},
   "outputs": [],
   "source": [
    "def make_inputs(board_size = 100, sample_size=10):\n",
    "    positions = np.random.choice(range(board_size), (sample_size,10))/board_size\n",
    "    positions[:,-1] = np.random.choice([0,1],sample_size)\n",
    "    positions[:,-2] = np.random.choice([0,1],sample_size)\n",
    "\n",
    "    model_regular_positions = np.append(positions[:,0:6],positions[:,-1]).reshape(7,sample_size).T\n",
    "    model_hornet_positions = np.append(positions[:,0:2],positions[:,6:8]).reshape(4,sample_size).T\n",
    "    return model_regular_positions, model_hornet_positions"
   ]
  },
  {
   "cell_type": "code",
   "execution_count": 85,
   "metadata": {},
   "outputs": [],
   "source": [
    "model_regular_positions, model_hornet_positions = make_inputs()"
   ]
  },
  {
   "cell_type": "code",
   "execution_count": 97,
   "metadata": {},
   "outputs": [],
   "source": [
    "def get_both_outputs(reg_inputs, hornet_inputs, model_hornet=model_hornet, model_regular=model_regular):\n",
    "    h_out = model_hornet.predict(hornet_inputs)\n",
    "    r_out = model_regular.predict(reg_inputs)\n",
    "    return h_out, r_out"
   ]
  },
  {
   "cell_type": "code",
   "execution_count": 99,
   "metadata": {},
   "outputs": [
    {
     "name": "stdout",
     "output_type": "stream",
     "text": [
      "1/1 [==============================] - 0s 14ms/step\n",
      "1/1 [==============================] - 0s 9ms/step\n"
     ]
    }
   ],
   "source": [
    "h_out, r_out = get_both_outputs(model_regular_positions, model_hornet_positions, model_hornet, model_regular)"
   ]
  },
  {
   "cell_type": "code",
   "execution_count": 101,
   "metadata": {},
   "outputs": [
    {
     "data": {
      "text/plain": [
       "array([[3.0619060e-03, 1.0758669e-02, 8.3589861e-05, 9.8609585e-01],\n",
       "       [6.3614720e-03, 5.0090132e-03, 9.8827821e-01, 3.5130008e-04],\n",
       "       [1.5475672e-02, 2.1717353e-03, 9.0745976e-05, 9.8226178e-01],\n",
       "       [5.7503274e-03, 2.7237656e-03, 3.5901026e-05, 9.9148995e-01],\n",
       "       [8.3320343e-01, 6.7419704e-04, 1.5860294e-01, 7.5194873e-03],\n",
       "       [9.8923326e-01, 1.5784946e-05, 2.1661231e-03, 8.5847266e-03],\n",
       "       [2.8226082e-03, 4.4202246e-03, 2.4386891e-05, 9.9273282e-01],\n",
       "       [4.4963704e-03, 3.9749682e-02, 9.5454168e-01, 1.2121348e-03],\n",
       "       [2.5600473e-05, 9.8360980e-01, 8.1368648e-03, 8.2276901e-03],\n",
       "       [7.0683786e-06, 9.9082899e-01, 2.3129005e-03, 6.8510878e-03]],\n",
       "      dtype=float32)"
      ]
     },
     "execution_count": 101,
     "metadata": {},
     "output_type": "execute_result"
    }
   ],
   "source": [
    "h_out"
   ]
  },
  {
   "cell_type": "code",
   "execution_count": 119,
   "metadata": {},
   "outputs": [],
   "source": [
    "final_inputs = []\n",
    "for row in np.append(h_out,r_out, 1):\n",
    "    final_inputs.append(np.append(row, np.random.choice([0,1])))"
   ]
  },
  {
   "cell_type": "code",
   "execution_count": 121,
   "metadata": {},
   "outputs": [
    {
     "data": {
      "text/plain": [
       "array([[3.06190597e-03, 1.07586691e-02, 8.35898609e-05, 9.86095846e-01,\n",
       "        9.40038443e-01, 6.14942866e-04, 5.12873121e-02, 8.05927161e-03,\n",
       "        1.00000000e+00],\n",
       "       [6.36147195e-03, 5.00901323e-03, 9.88278210e-01, 3.51300085e-04,\n",
       "        2.28049862e-03, 4.31156516e-01, 5.63465655e-01, 3.09733069e-03,\n",
       "        1.00000000e+00],\n",
       "       [1.54756717e-02, 2.17173528e-03, 9.07459762e-05, 9.82261777e-01,\n",
       "        1.39930667e-02, 4.64942217e-01, 2.04561707e-02, 5.00608504e-01,\n",
       "        1.00000000e+00],\n",
       "       [5.75032737e-03, 2.72376556e-03, 3.59010264e-05, 9.91489947e-01,\n",
       "        6.90755248e-02, 7.46678337e-02, 8.51776898e-01, 4.47974773e-03,\n",
       "        0.00000000e+00],\n",
       "       [8.33203435e-01, 6.74197043e-04, 1.58602938e-01, 7.51948729e-03,\n",
       "        3.41975123e-01, 3.56434584e-02, 6.11968815e-01, 1.04125096e-02,\n",
       "        0.00000000e+00],\n",
       "       [9.89233255e-01, 1.57849463e-05, 2.16612313e-03, 8.58472660e-03,\n",
       "        9.74325478e-01, 1.93871587e-04, 2.02037767e-02, 5.27685368e-03,\n",
       "        0.00000000e+00],\n",
       "       [2.82260822e-03, 4.42022458e-03, 2.43868908e-05, 9.92732823e-01,\n",
       "        5.43695800e-02, 7.30964029e-03, 9.38121855e-01, 1.98942347e-04,\n",
       "        0.00000000e+00],\n",
       "       [4.49637044e-03, 3.97496819e-02, 9.54541683e-01, 1.21213484e-03,\n",
       "        1.78789813e-02, 2.17552334e-01, 8.52806494e-03, 7.56040633e-01,\n",
       "        0.00000000e+00],\n",
       "       [2.56004732e-05, 9.83609796e-01, 8.13686475e-03, 8.22769012e-03,\n",
       "        3.43474858e-02, 1.12814978e-01, 8.49212885e-01, 3.62462783e-03,\n",
       "        1.00000000e+00],\n",
       "       [7.06837864e-06, 9.90828991e-01, 2.31290050e-03, 6.85108779e-03,\n",
       "        1.34433247e-03, 8.93501043e-01, 1.29894996e-02, 9.21651050e-02,\n",
       "        0.00000000e+00]])"
      ]
     },
     "execution_count": 121,
     "metadata": {},
     "output_type": "execute_result"
    }
   ],
   "source": [
    "np.array(final_inputs)"
   ]
  },
  {
   "cell_type": "code",
   "execution_count": 126,
   "metadata": {},
   "outputs": [],
   "source": [
    "softmax_inputs = np.matmul(final_inputs, layer_weights) + layer_biases"
   ]
  },
  {
   "cell_type": "code",
   "execution_count": 131,
   "metadata": {},
   "outputs": [],
   "source": [
    "def softmax(a:np.array):\n",
    "    exp_cap = 30\n",
    "    for i, ele in enumerate(a):\n",
    "        if ele > exp_cap:\n",
    "            a[i] = exp_cap\n",
    "        elif ele < -1*exp_cap:\n",
    "            a[i] = -1*exp_cap\n",
    "    z = np.exp(a)/(np.exp(a).sum())  \n",
    "    return z"
   ]
  },
  {
   "cell_type": "code",
   "execution_count": 147,
   "metadata": {},
   "outputs": [],
   "source": [
    "output = softmax(softmax_inputs[0])"
   ]
  },
  {
   "cell_type": "code",
   "execution_count": 148,
   "metadata": {},
   "outputs": [],
   "source": [
    "def percent_correct_outputs_reward(output, correct_output):\n",
    "        delta = np.zeros_like(output)\n",
    "        x_arg_max = np.argmax(output)\n",
    "        delta[x_arg_max] = 1\n",
    "        return (delta == correct_output).all()"
   ]
  },
  {
   "cell_type": "code",
   "execution_count": 149,
   "metadata": {},
   "outputs": [],
   "source": [
    "def get_correct_output(inputs):\n",
    "    if inputs[-1] == 0:\n",
    "        delta = np.zeros_like(inputs[0:4])\n",
    "        x_arg_max = np.argmax(inputs[0:4])\n",
    "    elif inputs[-1] == 1:\n",
    "        delta = np.zeros_like(inputs[4:8])\n",
    "        x_arg_max = np.argmax(inputs[4:8])\n",
    "    else:\n",
    "        raise AttributeError('Got bool not equal to 1,0)')\n",
    "    delta[x_arg_max] = 1\n",
    "    return delta"
   ]
  },
  {
   "cell_type": "code",
   "execution_count": 150,
   "metadata": {},
   "outputs": [],
   "source": [
    "correct_output = get_correct_output(final_inputs[0])"
   ]
  },
  {
   "cell_type": "code",
   "execution_count": 151,
   "metadata": {},
   "outputs": [
    {
     "data": {
      "text/plain": [
       "True"
      ]
     },
     "execution_count": 151,
     "metadata": {},
     "output_type": "execute_result"
    }
   ],
   "source": [
    "percent_correct_outputs_reward(output, correct_output)"
   ]
  },
  {
   "cell_type": "code",
   "execution_count": 161,
   "metadata": {},
   "outputs": [
    {
     "name": "stdout",
     "output_type": "stream",
     "text": [
      "1/1 [==============================] - 0s 54ms/step\n"
     ]
    },
    {
     "data": {
      "text/plain": [
       "array([[0.03236743, 0.4025125 , 0.05764058, 0.5074794 ]], dtype=float32)"
      ]
     },
     "execution_count": 161,
     "metadata": {},
     "output_type": "execute_result"
    }
   ],
   "source": [
    "model_regular.predict(input)"
   ]
  },
  {
   "cell_type": "code",
   "execution_count": 160,
   "metadata": {},
   "outputs": [],
   "source": [
    "input = np.array([[0.55, 0.45, 0.6, 0.45, 0.5, 0.5,  0.0  ]]) #6"
   ]
  },
  {
   "cell_type": "code",
   "execution_count": null,
   "metadata": {},
   "outputs": [],
   "source": []
  },
  {
   "cell_type": "code",
   "execution_count": 144,
   "metadata": {},
   "outputs": [
    {
     "data": {
      "text/plain": [
       "array([[ 30.        ,  30.        ,  22.07403456, -26.37563391],\n",
       "       [131.31078566,  24.06201749,   5.50753539, -55.96938491],\n",
       "       [123.79560521,  38.5231584 ,  -3.78385333, -37.17434285],\n",
       "       [ 94.0399245 ,  19.01178161,  -5.66729907, -75.28924298],\n",
       "       [ 78.36164625,  73.4338237 ,  25.38670147, -28.8392709 ],\n",
       "       [ 61.02801087, 106.96376118,  50.89425338,   1.17520464],\n",
       "       [ 97.41961129,  16.50679856,  -6.44862053, -78.22622315],\n",
       "       [103.63019527,  40.96719667,  31.99869316, -75.48323059],\n",
       "       [155.6875844 ,  82.4514349 , -14.65647276, -43.38647023],\n",
       "       [ 80.22787762, 105.01966618,  -5.58122796, -38.58341002]])"
      ]
     },
     "execution_count": 144,
     "metadata": {},
     "output_type": "execute_result"
    }
   ],
   "source": [
    "softmax_inputs"
   ]
  },
  {
   "cell_type": "code",
   "execution_count": 145,
   "metadata": {},
   "outputs": [],
   "source": [
    "class Layer:\n",
    "\n",
    "    def __init__(self, layer_num):\n",
    "        afs = ActivationFunctions(config)\n",
    "\n",
    "        self.layer_shape = config.net_shape[layer_num]\n",
    "        self.weights = self.init_weights(config)\n",
    "        self.biases = self.init_biases(config)\n",
    "        self.activation_function_name = config.layer_activations[layer_num]\n",
    "        self.activation_function = afs.activation_functions[config.layer_activations[layer_num]]\n",
    "\n",
    "        return None"
   ]
  },
  {
   "cell_type": "code",
   "execution_count": null,
   "metadata": {},
   "outputs": [],
   "source": []
  }
 ],
 "metadata": {
  "kernelspec": {
   "display_name": "Python 3 (ipykernel)",
   "language": "python",
   "name": "python3"
  },
  "language_info": {
   "codemirror_mode": {
    "name": "ipython",
    "version": 3
   },
   "file_extension": ".py",
   "mimetype": "text/x-python",
   "name": "python",
   "nbconvert_exporter": "python",
   "pygments_lexer": "ipython3",
   "version": "3.9.6"
  }
 },
 "nbformat": 4,
 "nbformat_minor": 4
}
